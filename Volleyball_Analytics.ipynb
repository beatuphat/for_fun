{
  "nbformat": 4,
  "nbformat_minor": 0,
  "metadata": {
    "colab": {
      "provenance": [],
      "authorship_tag": "ABX9TyPDVGTq3aVpOMMolew89y0Y",
      "include_colab_link": true
    },
    "kernelspec": {
      "name": "python3",
      "display_name": "Python 3"
    },
    "language_info": {
      "name": "python"
    }
  },
  "cells": [
    {
      "cell_type": "markdown",
      "metadata": {
        "id": "view-in-github",
        "colab_type": "text"
      },
      "source": [
        "<a href=\"https://colab.research.google.com/github/beatuphat/for_fun/blob/main/Volleyball_Analytics.ipynb\" target=\"_parent\"><img src=\"https://colab.research.google.com/assets/colab-badge.svg\" alt=\"Open In Colab\"/></a>"
      ]
    },
    {
      "cell_type": "code",
      "execution_count": null,
      "metadata": {
        "id": "oMN7xtGJrBvX"
      },
      "outputs": [],
      "source": [
        "# prompt: load a google sheet\n",
        "\n",
        "from google.colab import auth\n",
        "auth.authenticate_user()\n",
        "\n",
        "import gspread\n",
        "from google.auth import default\n",
        "\n",
        "# Get credentials and project ID.\n",
        "creds, _ = default()\n",
        "\n",
        "# Authorize the client.\n",
        "gc = gspread.authorize(creds)\n",
        "\n",
        "# Open the Google Sheet by its URL.\n",
        "sheet = gc.open_by_url('https://docs.google.com/spreadsheets/d/1nuBzxaLVbTkQoN61a3WZ1YmVV9npdDdZQj0USXJiM0c/edit?usp=sharing')\n",
        "\n",
        "# Select the first worksheet.\n",
        "# worksheet = sheet.get_worksheet(0)\n",
        "\n",
        "# Select a worksheet by title.\n",
        "worksheet = sheet.worksheet(\"results\")\n",
        "\n",
        "# Get all values from the sheet.\n",
        "data = worksheet.get_all_values()\n",
        "\n",
        "# Print the data.\n",
        "print(data)\n"
      ]
    },
    {
      "cell_type": "code",
      "source": [
        "# prompt: create a dataframe from the worksheet\n",
        "\n",
        "import pandas as pd\n",
        "\n",
        "# Create a Pandas DataFrame from the data.\n",
        "df = pd.DataFrame(data[1:], columns=data[0])\n",
        "\n",
        "# Print the DataFrame.\n",
        "print(df)\n"
      ],
      "metadata": {
        "id": "kuClgvZfrQ69"
      },
      "execution_count": null,
      "outputs": []
    },
    {
      "cell_type": "code",
      "source": [
        "# prompt: profile the data types\n",
        "\n",
        "df.info()\n"
      ],
      "metadata": {
        "id": "Gy57GoYRrxMZ"
      },
      "execution_count": null,
      "outputs": []
    },
    {
      "cell_type": "code",
      "source": [
        "# Create a list to store the player columns\n",
        "player_columns = [col for col in df.columns if 'player' in col.lower()]\n",
        "player_columns"
      ],
      "metadata": {
        "id": "zF9dQ2dx5jXs"
      },
      "execution_count": null,
      "outputs": []
    },
    {
      "cell_type": "code",
      "source": [
        "# Create a list to store the players\n",
        "df_players = []\n",
        "\n",
        "# Add players from each team to the list\n",
        "df_players.extend(df['team 1 player 1'])\n",
        "df_players.extend(df['team 1 player 2'])\n",
        "df_players.extend(df['team 2 player 1'])\n",
        "df_players.extend(df['team 2 player 2'])\n",
        "\n",
        "# Convert the list to a Series\n",
        "df_players = pd.Series(df_players)\n",
        "\n",
        "df_players"
      ],
      "metadata": {
        "id": "j9nRfeDV6rh1"
      },
      "execution_count": null,
      "outputs": []
    },
    {
      "cell_type": "code",
      "source": [
        "# prompt: get the distinct values from df_players\n",
        "\n",
        "# Get the distinct values from df_players\n",
        "distinct_players = df_players.unique()\n",
        "print(distinct_players)\n"
      ],
      "metadata": {
        "id": "Jsp5W1TS68rh"
      },
      "execution_count": null,
      "outputs": []
    },
    {
      "cell_type": "code",
      "source": [
        "# prompt: generate win loss results for each player using the columns winner #1, winner #2, loser #1, loser #2\n",
        "\n",
        "# Create a dictionary to store the win-loss results for each player\n",
        "player_results = {}\n",
        "\n",
        "# Initialize the dictionary with players and their initial win-loss counts\n",
        "for player in distinct_players:\n",
        "  if player:  # Check if the player name is not empty\n",
        "    player_results[player] = {'wins': 0, 'losses': 0}\n",
        "\n",
        "# Iterate through the DataFrame\n",
        "for index, row in df.iterrows():\n",
        "  # Get the winners and losers\n",
        "  winners = [row['winner #1'], row['winner #2']]\n",
        "  losers = [row['loser #1'], row['loser #2']]\n",
        "\n",
        "  # Update the win-loss counts for winners\n",
        "  for winner in winners:\n",
        "    if winner in player_results:\n",
        "      player_results[winner]['wins'] += 1\n",
        "\n",
        "  # Update the win-loss counts for losers\n",
        "  for loser in losers:\n",
        "    if loser in player_results:\n",
        "      player_results[loser]['losses'] += 1\n",
        "\n",
        "# Print the win-loss results for each player\n",
        "for player, result in player_results.items():\n",
        "  print(f\"{player}: Wins - {result['wins']}, Losses - {result['losses']}\")\n"
      ],
      "metadata": {
        "id": "xIRUPhmf7LhE"
      },
      "execution_count": null,
      "outputs": []
    },
    {
      "cell_type": "code",
      "source": [
        "player_results"
      ],
      "metadata": {
        "id": "hy_8Zp_R76Oc"
      },
      "execution_count": null,
      "outputs": []
    },
    {
      "cell_type": "code",
      "source": [
        "# prompt: make player_results into a dataframe\n",
        "\n",
        "import pandas as pd\n",
        "# Create a DataFrame from the player_results dictionary\n",
        "df_player_results = pd.DataFrame.from_dict(player_results, orient='index')\n",
        "\n",
        "# Reset the index to make the player names a column\n",
        "df_player_results = df_player_results.reset_index()\n",
        "\n",
        "# Rename the columns\n",
        "df_player_results = df_player_results.rename(columns={'index': 'Player', 'wins': 'Wins', 'losses': 'Losses'})\n",
        "df_player_results['Total Games'] = df_player_results['Wins'] + df_player_results['Losses']\n",
        "df_player_results['Win Percentage'] = (df_player_results['Wins'] / df_player_results['Total Games']) * 100\n",
        "\n",
        "# Print the DataFrame\n",
        "print(df_player_results)\n"
      ],
      "metadata": {
        "id": "bGNf-asI8Ed6"
      },
      "execution_count": null,
      "outputs": []
    },
    {
      "cell_type": "code",
      "source": [
        "# prompt: order df_player_results by win percentage\n",
        "\n",
        "# Sort the DataFrame by Win Percentage in descending order\n",
        "df_player_results = df_player_results.sort_values(by=['Win Percentage'], ascending=False)\n",
        "\n",
        "# Print the sorted DataFrame\n",
        "print(df_player_results)\n"
      ],
      "metadata": {
        "id": "G_m-tO658gjb"
      },
      "execution_count": null,
      "outputs": []
    },
    {
      "cell_type": "code",
      "source": [
        "# prompt: calculate the TruVolley ratings\n",
        "\n",
        "import math\n",
        "\n",
        "# Function to calculate TruVolley rating\n",
        "def calculate_truvolley_rating(wins, losses):\n",
        "  \"\"\"\n",
        "  Calculates the TruVolley rating based on wins and losses.\n",
        "\n",
        "  Args:\n",
        "    wins: The number of wins.\n",
        "    losses: The number of losses.\n",
        "\n",
        "  Returns:\n",
        "    The TruVolley rating.\n",
        "  \"\"\"\n",
        "  if wins + losses == 0:\n",
        "    return 0\n",
        "\n",
        "  win_ratio = wins / (wins + losses)\n",
        "  rating = math.log10(wins + losses) * (2 * win_ratio - 1)\n",
        "  return rating\n",
        "\n",
        "# Add a new column for TruVolley rating\n",
        "df_player_results['TruVolley Rating'] = df_player_results.apply(lambda row: calculate_truvolley_rating(row['Wins'], row['Losses']), axis=1)\n",
        "\n",
        "# Sort the DataFrame by TruVolley Rating in descending order\n",
        "df_player_results = df_player_results.sort_values(by=['TruVolley Rating'], ascending=False)\n",
        "\n",
        "# Print the DataFrame with TruVolley ratings\n",
        "print(df_player_results)\n"
      ],
      "metadata": {
        "id": "Qpx0e4Ju8oc1"
      },
      "execution_count": null,
      "outputs": []
    },
    {
      "cell_type": "code",
      "source": [
        "# https://github.com/tjbreshears/VBelo/blob/main/vbelo.py\n",
        "# Function to calculate the Probability of winning/losing\n",
        "def probability(rating1, rating2):\n",
        "    return 1.0 * 1.0 / (1 + 1.0 * math.pow(10, 1.0 * (rating1 - rating2) / 400))"
      ],
      "metadata": {
        "id": "RGAn4yKn-yJE"
      },
      "execution_count": null,
      "outputs": []
    },
    {
      "cell_type": "code",
      "source": [
        "# https://github.com/openvolley/pydatavolley"
      ],
      "metadata": {
        "id": "vHPs_CLF_CWt"
      },
      "execution_count": null,
      "outputs": []
    },
    {
      "cell_type": "code",
      "source": [
        "import pandas as pd\n",
        "# Function to calculate ELO rating\n",
        "def calculate_elo_rating(rating_a, rating_b, score_a, score_b, k_factor=32):\n",
        "  \"\"\"\n",
        "  Calculates the new ELO ratings for two players after a game.\n",
        "\n",
        "  Args:\n",
        "    rating_a: The current ELO rating of player A.\n",
        "    rating_b: The current ELO rating of player B.\n",
        "    score_a: The score of player A.\n",
        "    score_b: The score of player B.\n",
        "    k_factor: The K-factor used in the ELO calculation (default is 32).\n",
        "\n",
        "  Returns:\n",
        "    A tuple containing the new ELO ratings for player A and player B.\n",
        "  \"\"\"\n",
        "  expected_score_a = 1 / (1 + 10 ** ((rating_b - rating_a) / 400))\n",
        "  expected_score_b = 1 / (1 + 10 ** ((rating_a - rating_b) / 400))\n",
        "\n",
        "  if score_a > score_b:\n",
        "    actual_score_a = 1\n",
        "    actual_score_b = 0\n",
        "  elif score_a < score_b:\n",
        "    actual_score_a = 0\n",
        "    actual_score_b = 1\n",
        "  else:\n",
        "    actual_score_a = 0.5\n",
        "    actual_score_b = 0.5\n",
        "\n",
        "  new_rating_a = rating_a + k_factor * (actual_score_a - expected_score_a)\n",
        "  new_rating_b = rating_b + k_factor * (actual_score_b - expected_score_b)\n",
        "\n",
        "  return new_rating_a, new_rating_b\n",
        "\n",
        "def expected_elo_score(rating_a, rating_b):\n",
        "  \"\"\"\n",
        "\n",
        "  Args:\n",
        "    rating_a: The current ELO rating of player A.\n",
        "    rating_b: The current ELO rating of player B.\n",
        "\n",
        "  Returns:\n",
        "    A tuple containing the expected score for player A and player B.\n",
        "  \"\"\"\n",
        "  expected_score_a = 1 / (1 + 10 ** ((rating_b - rating_a) / 400))\n",
        "  expected_score_b = 1 / (1 + 10 ** ((rating_a - rating_b) / 400))\n",
        "\n",
        "  return expected_score_a, expected_score_b"
      ],
      "metadata": {
        "id": "zbEJBbo-PUbH"
      },
      "execution_count": null,
      "outputs": []
    },
    {
      "cell_type": "code",
      "source": [
        "# prompt: calculate an ELO rating for all the games\n",
        "\n",
        "# Initialize ELO ratings for each player\n",
        "elo_ratings = {}\n",
        "for player in distinct_players:\n",
        "  if player:\n",
        "    elo_ratings[player] = 1500  # Starting ELO rating\n",
        "\n",
        "# Calculate ELO ratings for each game\n",
        "for index, row in df.iterrows():\n",
        "  team1_player1 = row['team 1 player 1']\n",
        "  team1_player2 = row['team 1 player 2']\n",
        "  team2_player1 = row['team 2 player 1']\n",
        "  team2_player2 = row['team 2 player 2']\n",
        "  winner1 = row['winner #1']\n",
        "  winner2 = row['winner #2']\n",
        "  loser1 = row['loser #1']\n",
        "  loser2 = row['loser #2']\n",
        "\n",
        "  if team1_player1 in elo_ratings and team1_player2 in elo_ratings and team2_player1 in elo_ratings and team2_player2 in elo_ratings:\n",
        "    # Calculate the average ELO rating for each team\n",
        "    team1_rating = (elo_ratings[team1_player1] + elo_ratings[team1_player2]) / 2\n",
        "    team2_rating = (elo_ratings[team2_player1] + elo_ratings[team2_player2]) / 2\n",
        "\n",
        "    df['team1_rating'] = team1_rating\n",
        "    df['team2_rating'] = team2_rating\n",
        "\n",
        "    expected_result_team1, expected_result_team2 = expected_elo_score(team1_rating, team2_rating)\n",
        "    df['expected_result_team1'] = expected_result_team1\n",
        "    df['expected_result_team2'] = expected_result_team2\n",
        "\n",
        "    # Determine the score for each team based on the winners and losers\n",
        "    if winner1 == team1_player1 or winner1 == team1_player2:\n",
        "      team1_score = 1\n",
        "      team2_score = 0\n",
        "    else:\n",
        "      team1_score = 0\n",
        "      team2_score = 1\n",
        "\n",
        "    # Calculate new ELO ratings for each player\n",
        "    new_rating_team1_player1, new_rating_team2_player1 = calculate_elo_rating(elo_ratings[team1_player1], elo_ratings[team2_player1], team1_score, team2_score)\n",
        "    new_rating_team1_player2, new_rating_team2_player2 = calculate_elo_rating(elo_ratings[team1_player2], elo_ratings[team2_player2], team1_score, team2_score)\n",
        "\n",
        "    df['new_rating_team1_player1'] = new_rating_team1_player1\n",
        "    df['new_rating_team2_player1'] = new_rating_team2_player1\n",
        "    df['new_rating_team1_player2'] = new_rating_team1_player2\n",
        "    df['new_rating_team2_player2'] = new_rating_team2_player2\n",
        "\n",
        "    # Update ELO ratings for each player\n",
        "    elo_ratings[team1_player1] = new_rating_team1_player1\n",
        "    elo_ratings[team1_player2] = new_rating_team1_player2\n",
        "    elo_ratings[team2_player1] = new_rating_team2_player1\n",
        "    elo_ratings[team2_player2] = new_rating_team2_player2\n",
        "\n",
        "# Create a DataFrame from the ELO ratings\n",
        "df_elo_ratings = pd.DataFrame.from_dict(elo_ratings, orient='index', columns=['ELO Rating'])\n",
        "df_elo_ratings = df_elo_ratings.reset_index().rename(columns={'index': 'Player'})\n",
        "\n",
        "# Print the DataFrame with ELO ratings\n",
        "print(df_elo_ratings.sort_values(by=['ELO Rating'], ascending=False))\n"
      ],
      "metadata": {
        "id": "McjohSVy_DeX"
      },
      "execution_count": null,
      "outputs": []
    },
    {
      "cell_type": "code",
      "source": [
        "# prompt: export df_elo_ratings back to google sheets and include a date and time\n",
        "\n",
        "from datetime import datetime\n",
        "\n",
        "# Get the current date and time\n",
        "now = datetime.now()\n",
        "date_time_string = now.strftime(\"%Y-%m-%d %H:%M:%S\")\n",
        "\n",
        "# Add a new column for the date and time\n",
        "df_elo_ratings['Date and Time'] = date_time_string\n",
        "\n",
        "# sort\n",
        "df_elo_ratings.sort_values(by=['ELO Rating'])\n",
        "\n",
        "# Convert the DataFrame to a list of lists\n",
        "elo_ratings_list = df_elo_ratings.sort_values(by=['ELO Rating'], ascending=False).values.tolist()\n",
        "\n",
        "# Get the worksheet to update\n",
        "worksheet_elo_ratings = sheet.worksheet(\"elo_ratings\")\n",
        "\n",
        "# Clear existing data in the worksheet\n",
        "worksheet_elo_ratings.clear()\n",
        "\n",
        "# Update the worksheet with the new data\n",
        "worksheet_elo_ratings.update([df_elo_ratings.sort_values(by=['ELO Rating']).columns.values.tolist()] + elo_ratings_list)\n"
      ],
      "metadata": {
        "id": "XeAxZsq8tgK6"
      },
      "execution_count": null,
      "outputs": []
    },
    {
      "cell_type": "code",
      "source": [
        "# prompt: show the elo rating in the df dataframe before and after each game\n",
        "\n",
        "# Initialize ELO ratings for each player\n",
        "elo_ratings = {}\n",
        "for player in distinct_players:\n",
        "  if player:\n",
        "    elo_ratings[player] = 1500  # Starting ELO rating\n",
        "\n",
        "# Calculate ELO ratings for each game\n",
        "for index, row in df.iterrows():\n",
        "  team1_player1 = row['team 1 player 1']\n",
        "  team1_player2 = row['team 1 player 2']\n",
        "  team2_player1 = row['team 2 player 1']\n",
        "  team2_player2 = row['team 2 player 2']\n",
        "  winner1 = row['winner #1']\n",
        "  winner2 = row['winner #2']\n",
        "  loser1 = row['loser #1']\n",
        "  loser2 = row['loser #2']\n",
        "\n",
        "  if team1_player1 in elo_ratings and team1_player2 in elo_ratings and team2_player1 in elo_ratings and team2_player2 in elo_ratings:\n",
        "    # Calculate the average ELO rating for each team\n",
        "    team1_rating_before = (elo_ratings[team1_player1] + elo_ratings[team1_player2]) / 2\n",
        "    team2_rating_before = (elo_ratings[team2_player1] + elo_ratings[team2_player2]) / 2\n",
        "\n",
        "    df.loc[index, 'team1_rating_before'] = team1_rating_before\n",
        "    df.loc[index, 'team2_rating_before'] = team2_rating_before\n",
        "\n",
        "    expected_result_team1, expected_result_team2 = expected_elo_score(team1_rating_before, team2_rating_before)\n",
        "    df.loc[index, 'expected_result_team1'] = expected_result_team1\n",
        "    df.loc[index, 'expected_result_team2'] = expected_result_team2\n",
        "\n",
        "    # Determine the score for each team based on the winners and losers\n",
        "    if winner1 == team1_player1 or winner1 == team1_player2:\n",
        "      team1_score = 1\n",
        "      team2_score = 0\n",
        "    else:\n",
        "      team1_score = 0\n",
        "      team2_score = 1\n",
        "\n",
        "    # Calculate new ELO ratings for each player\n",
        "    new_rating_team1_player1, new_rating_team2_player1 = calculate_elo_rating(elo_ratings[team1_player1], elo_ratings[team2_player1], team1_score, team2_score)\n",
        "    new_rating_team1_player2, new_rating_team2_player2 = calculate_elo_rating(elo_ratings[team1_player2], elo_ratings[team2_player2], team1_score, team2_score)\n",
        "\n",
        "    df.loc[index, 'new_rating_team1_player1'] = new_rating_team1_player1\n",
        "    df.loc[index, 'new_rating_team2_player1'] = new_rating_team2_player1\n",
        "    df.loc[index, 'new_rating_team1_player2'] = new_rating_team1_player2\n",
        "    df.loc[index, 'new_rating_team2_player2'] = new_rating_team2_player2\n",
        "\n",
        "    # Update ELO ratings for each player\n",
        "    elo_ratings[team1_player1] = new_rating_team1_player1\n",
        "    elo_ratings[team1_player2] = new_rating_team1_player2\n",
        "    elo_ratings[team2_player1] = new_rating_team2_player1\n",
        "    elo_ratings[team2_player2] = new_rating_team2_player2\n",
        "\n",
        "    # Calculate the average ELO rating for each team after the game\n",
        "    team1_rating_after = (elo_ratings[team1_player1] + elo_ratings[team1_player2]) / 2\n",
        "    team2_rating_after = (elo_ratings[team2_player1] + elo_ratings[team2_player2]) / 2\n",
        "\n",
        "    df.loc[index, 'team1_rating_after'] = team1_rating_after\n",
        "    df.loc[index, 'team2_rating_after'] = team2_rating_after\n",
        "\n",
        "# Print the DataFrame with ELO ratings before and after each game\n",
        "print(df)\n"
      ],
      "metadata": {
        "id": "wSYKMrBKd0kc"
      },
      "execution_count": null,
      "outputs": []
    },
    {
      "cell_type": "code",
      "source": [
        "# prompt: show games from df only with 'Kyle' and create a new column showing Kyle's rating over time\n",
        "\n",
        "# Filter games with 'Kyle'\n",
        "df_kyle = df[\n",
        "    df['team 1 player 1'].str.contains('Kyle') |\n",
        "    df['team 1 player 2'].str.contains('Kyle') |\n",
        "    df['team 2 player 1'].str.contains('Kyle') |\n",
        "    df['team 2 player 2'].str.contains('Kyle')\n",
        "]\n",
        "\n",
        "# Function to get Kyle's rating for a given row\n",
        "def get_kyle_rating(row):\n",
        "  if row['team 1 player 1'] == 'Kyle':\n",
        "    return row['new_rating_team1_player1']\n",
        "  elif row['team 1 player 2'] == 'Kyle':\n",
        "    return row['new_rating_team1_player2']\n",
        "  elif row['team 2 player 1'] == 'Kyle':\n",
        "    return row['new_rating_team2_player1']\n",
        "  elif row['team 2 player 2'] == 'Kyle':\n",
        "    return row['new_rating_team2_player2']\n",
        "  else:\n",
        "    return None\n",
        "\n",
        "# Apply the function to create a new column\n",
        "df_kyle['Kyle Rating'] = df_kyle.apply(get_kyle_rating, axis=1)\n",
        "\n",
        "# Print the filtered DataFrame\n",
        "print(df_kyle)\n"
      ],
      "metadata": {
        "id": "MFxHPFY8P9wv"
      },
      "execution_count": null,
      "outputs": []
    },
    {
      "cell_type": "code",
      "source": [
        "# prompt: Add a column for Kyle's game number\n",
        "\n",
        "# Create a new column for Kyle's game number\n",
        "df_kyle['Kyle Game Number'] = range(1, len(df_kyle) + 1)\n",
        "\n",
        "# Print the updated DataFrame\n",
        "print(df_kyle)\n"
      ],
      "metadata": {
        "id": "h_j39-gEQvZJ"
      },
      "execution_count": null,
      "outputs": []
    },
    {
      "cell_type": "code",
      "source": [
        "# prompt: graph 'Kyle Rating' over time\n",
        "\n",
        "import matplotlib.pyplot as plt\n",
        "\n",
        "# Sort the DataFrame by the 'Game #' column\n",
        "df_kyle = df_kyle.sort_values(by=['Kyle Game Number'])\n",
        "\n",
        "# Plot the 'Kyle Rating' over time\n",
        "plt.plot(df_kyle['Kyle Game Number'], df_kyle['Kyle Rating'])\n",
        "plt.xlabel('Kyle Game Number')\n",
        "plt.ylabel('Kyle Rating')\n",
        "plt.title('Kyle\\'s ELO Rating Over Time')\n",
        "plt.show()\n"
      ],
      "metadata": {
        "id": "rFbl3R-1Qktu"
      },
      "execution_count": null,
      "outputs": []
    },
    {
      "cell_type": "code",
      "source": [
        "# prompt: create an interactive graph showing each player's rating over time\n",
        "\n",
        "import pandas as pd\n",
        "import plotly.express as px\n",
        "\n",
        "# Create a list to store the player ratings over time\n",
        "player_ratings_over_time = []\n",
        "\n",
        "# Iterate through the DataFrame\n",
        "for index, row in df.iterrows():\n",
        "  # Get the players and their new ratings\n",
        "  players = [\n",
        "      {'player': row['team 1 player 1'], 'rating': row['new_rating_team1_player1']},\n",
        "      {'player': row['team 1 player 2'], 'rating': row['new_rating_team1_player2']},\n",
        "      {'player': row['team 2 player 1'], 'rating': row['new_rating_team2_player1']},\n",
        "      {'player': row['team 2 player 2'], 'rating': row['new_rating_team2_player2']}\n",
        "  ]\n",
        "  # Add the player ratings to the list\n",
        "  for player in players:\n",
        "    if player['player']:\n",
        "      player_ratings_over_time.append({\n",
        "          'Game': index + 1,\n",
        "          'Player': player['player'],\n",
        "          'Rating': player['rating']\n",
        "      })\n",
        "\n",
        "# Create a DataFrame from the player ratings over time\n",
        "df_ratings_over_time = pd.DataFrame(player_ratings_over_time)\n",
        "\n",
        "# Create an interactive line plot using Plotly\n",
        "fig = px.line(df_ratings_over_time, x='Game', y='Rating', color='Player', title='Player Ratings Over Time')\n",
        "fig.show()\n"
      ],
      "metadata": {
        "id": "6f_wyLmmRMki"
      },
      "execution_count": null,
      "outputs": []
    },
    {
      "cell_type": "code",
      "source": [
        "# prompt: create an interactive graph showing each player's rating over time based on only the games they've played in\n",
        "\n",
        "import pandas as pd\n",
        "# Create a list to store the player ratings over time\n",
        "player_ratings_over_time = []\n",
        "\n",
        "# Iterate through the DataFrame\n",
        "for index, row in df.iterrows():\n",
        "  # Get the players and their new ratings\n",
        "  players = [\n",
        "      {'player': row['team 1 player 1'], 'rating': row['new_rating_team1_player1']},\n",
        "      {'player': row['team 1 player 2'], 'rating': row['new_rating_team1_player2']},\n",
        "      {'player': row['team 2 player 1'], 'rating': row['new_rating_team2_player1']},\n",
        "      {'player': row['team 2 player 2'], 'rating': row['new_rating_team2_player2']}\n",
        "  ]\n",
        "  # Add the player ratings to the list\n",
        "  for player in players:\n",
        "    if player['player']:\n",
        "      player_ratings_over_time.append({\n",
        "          'Game': index + 1,\n",
        "          'Player': player['player'],\n",
        "          'Rating': player['rating']\n",
        "      })\n",
        "\n",
        "# Create a DataFrame from the player ratings over time\n",
        "df_ratings_over_time = pd.DataFrame(player_ratings_over_time)\n",
        "\n",
        "# Filter out games where the player was not present\n",
        "df_ratings_over_time = df_ratings_over_time.sort_values(by=['Player', 'Game'])\n",
        "df_ratings_over_time['Game Number'] = df_ratings_over_time.groupby('Player').cumcount() + 1\n",
        "\n",
        "# Create an interactive line plot using Plotly\n",
        "fig = px.line(df_ratings_over_time, x='Game Number', y='Rating', color='Player', title='Player Ratings Over Time (Games Played)')\n",
        "fig.show()\n"
      ],
      "metadata": {
        "id": "Q2THLAo7ReUs"
      },
      "execution_count": null,
      "outputs": []
    },
    {
      "cell_type": "code",
      "source": [
        "# prompt: get all unique values in Date column and sort\n",
        "\n",
        "# Get all unique values in the 'Date' column\n",
        "unique_dates = df['Date'].unique()\n",
        "\n",
        "# Sort the unique dates\n",
        "unique_dates.sort()\n",
        "\n",
        "# Print the sorted unique dates\n",
        "print(unique_dates)\n"
      ],
      "metadata": {
        "id": "A6vT1QKTXMFF"
      },
      "execution_count": null,
      "outputs": []
    },
    {
      "cell_type": "code",
      "source": [
        "# prompt: create an interactive graph showing each player's rating over time by month and year with x axis starting on the first date and ending on the last date\n",
        "\n",
        "import pandas as pd\n",
        "# Convert the 'Date' column to datetime objects\n",
        "df['Date'] = pd.to_datetime(df['Date'])\n",
        "\n",
        "# Create a list to store the player ratings over time\n",
        "player_ratings_over_time = []\n",
        "\n",
        "# Iterate through the DataFrame\n",
        "for index, row in df.iterrows():\n",
        "  # Get the players and their new ratings\n",
        "  players = [\n",
        "      {'player': row['team 1 player 1'], 'rating': row['new_rating_team1_player1'], 'date': row['Date']},\n",
        "      {'player': row['team 1 player 2'], 'rating': row['new_rating_team1_player2'], 'date': row['Date']},\n",
        "      {'player': row['team 2 player 1'], 'rating': row['new_rating_team2_player1'], 'date': row['Date']},\n",
        "      {'player': row['team 2 player 2'], 'rating': row['new_rating_team2_player2'], 'date': row['Date']}\n",
        "  ]\n",
        "  # Add the player ratings to the list\n",
        "  for player in players:\n",
        "    if player['player']:\n",
        "      player_ratings_over_time.append({\n",
        "          'Date': player['date'],\n",
        "          'Player': player['player'],\n",
        "          'Rating': player['rating']\n",
        "      })\n",
        "\n",
        "# Create a DataFrame from the player ratings over time\n",
        "df_ratings_over_time = pd.DataFrame(player_ratings_over_time)\n",
        "\n",
        "# Sort the DataFrame by date and player\n",
        "df_ratings_over_time = df_ratings_over_time.sort_values(by=['Date', 'Player'])\n",
        "\n",
        "# Create an interactive line plot using Plotly\n",
        "fig = px.line(df_ratings_over_time, x='Date', y='Rating', color='Player', title='Player Ratings Over Time')\n",
        "fig.show()\n"
      ],
      "metadata": {
        "id": "Xp-XhkrlXtwa"
      },
      "execution_count": null,
      "outputs": []
    },
    {
      "cell_type": "code",
      "source": [
        "# prompt: add a record with today's date and the player's latest ranking to df_ratings_over_time\n",
        "\n",
        "import pandas as pd\n",
        "from datetime import date\n",
        "\n",
        "# Get today's date\n",
        "today = date.today()\n",
        "\n",
        "# Get the latest ratings for each player\n",
        "latest_ratings = df_elo_ratings.set_index('Player')['ELO Rating'].to_dict()\n",
        "\n",
        "# Create a list to store the new records\n",
        "new_records = []\n",
        "\n",
        "# Add a new record for each player with today's date and their latest rating\n",
        "for player, rating in latest_ratings.items():\n",
        "  new_records.append({\n",
        "      'Date': today,\n",
        "      'Player': player,\n",
        "      'Rating': rating\n",
        "  })\n",
        "\n",
        "# Create a DataFrame from the new records\n",
        "new_df = pd.DataFrame(new_records)\n",
        "\n",
        "# Append the new records to the existing DataFrame\n",
        "df_ratings_over_time = pd.concat([df_ratings_over_time, new_df], ignore_index=True)\n",
        "df_ratings_over_time"
      ],
      "metadata": {
        "id": "BrsC7BLYY6Fw"
      },
      "execution_count": null,
      "outputs": []
    },
    {
      "cell_type": "code",
      "source": [
        "# Create an interactive line plot using Plotly\n",
        "fig = px.line(df_ratings_over_time, x='Date', y='Rating', color='Player', title='Player Ratings Over Time')\n",
        "fig.show()"
      ],
      "metadata": {
        "id": "OdExYR5MZDZI"
      },
      "execution_count": null,
      "outputs": []
    },
    {
      "cell_type": "code",
      "source": [
        "# prompt: highlight Kyle and Mark in the plot\n",
        "\n",
        "# Create an interactive line plot using Plotly\n",
        "fig = px.line(df_ratings_over_time, x='Date', y='Rating', color='Player', title='Player Ratings Over Time')\n",
        "\n",
        "# Highlight Kyle and Mark\n",
        "fig.update_traces(line=dict(width=10), selector=dict(name='Kyle'))\n",
        "fig.update_traces(line=dict(width=10), selector=dict(name='Mark'))\n",
        "fig.update_traces(line=dict(width=10), selector=dict(name='Kevin'))\n",
        "\n",
        "fig.show()\n"
      ],
      "metadata": {
        "id": "nflBTuUwZeMj"
      },
      "execution_count": null,
      "outputs": []
    },
    {
      "cell_type": "code",
      "source": [
        "# prompt: select only Kyle in the plot\n",
        "\n",
        "# Create an interactive line plot using Plotly\n",
        "fig = px.line(df_ratings_over_time, x='Date', y='Rating', color='Player', title='Player Ratings Over Time')\n",
        "\n",
        "# Highlight Kyle\n",
        "# Set default selection\n",
        "fig.update_traces(visible=\"legendonly\") #<----- deselect all lines\n",
        "fig.data[1].visible=True   #<------ display the second player\n",
        "\n",
        "fig.show()\n"
      ],
      "metadata": {
        "id": "oBOoM2RwZqHr"
      },
      "execution_count": null,
      "outputs": []
    },
    {
      "cell_type": "code",
      "source": [
        "# selectedpoints=[True if p == 'Mark' else False for p in df_ratings_over_time['Player']]\n",
        "# selectedpoints"
      ],
      "metadata": {
        "id": "7mQLSYndbh23"
      },
      "execution_count": null,
      "outputs": []
    },
    {
      "cell_type": "code",
      "source": [
        "# prompt: df_ratings_over_time['Player'] where player is Kyle\n",
        "\n",
        "df_ratings_over_time[df_ratings_over_time['Player'] == 'Kyle']\n"
      ],
      "metadata": {
        "id": "n8V-o9Emdwz3"
      },
      "execution_count": null,
      "outputs": []
    },
    {
      "cell_type": "code",
      "source": [
        "fig.data[1]"
      ],
      "metadata": {
        "id": "zvrj4QYRePYw"
      },
      "execution_count": null,
      "outputs": []
    },
    {
      "cell_type": "code",
      "source": [
        "# prompt: obtain the legendgroup from fig.data[1]\n",
        "\n",
        "legendgroup = fig.data[1].legendgroup\n",
        "legendgroup"
      ],
      "metadata": {
        "id": "0IzBRfSYeZvU"
      },
      "execution_count": null,
      "outputs": []
    },
    {
      "cell_type": "code",
      "source": [
        "# prompt: get the number of legendgroups\n",
        "\n",
        "length_fig_data = len(fig.data)\n"
      ],
      "metadata": {
        "id": "Hg9Ihr_RfAGT"
      },
      "execution_count": null,
      "outputs": []
    },
    {
      "cell_type": "code",
      "source": [
        "# prompt: instead of data[0] show code using where value = 'Kyle'\n",
        "\n",
        "# Create an interactive line plot using Plotly\n",
        "fig = px.line(df_ratings_over_time, x='Date', y='Rating', color='Player', title='Player Ratings Over Time')\n",
        "\n",
        "# Highlight Kyle\n",
        "# Set default selection\n",
        "fig.update_traces(visible=\"legendonly\") #<----- deselect all lines\n",
        "\n",
        "# Select Kyle's data\n",
        "# fig.update_traces(selectedpoints=[True if p == 'Kyle' else False for p in df_ratings_over_time['Player']], selector=dict(type='scatter'))\n",
        "# fig.update_traces(selectedpoints=[True if p == 'Kyle' else False for p in df_ratings_over_time['Player']])\n",
        "# fig.update_traces(selectedpoints=[True if p == 'Mark' else False for p in df_ratings_over_time['Player']], selector=dict(type='scatter'))\n",
        "# for k in df_ratings_over_time[df_ratings_over_time['Player'] == 'Kyle']:\n",
        "#      fig.update_traces(visible=True, selector=k)\n",
        "# fig.update_traces(visible=True, selector=df_ratings_over_time[df_ratings_over_time['Player'] == 'Kyle'])\n",
        "length_fig_data = len(fig.data)\n",
        "for k in range(0, length_fig_data):\n",
        "  if fig.data[k].legendgroup == 'Kyle':\n",
        "    fig.data[k].visible = True\n",
        "\n",
        "fig.update_xaxes(range=[df['Date'].min(), df['Date'].max()])  # Replace with your desired date range\n",
        "fig.update_yaxes(range=[df_ratings_over_time['Rating'].min(), df_ratings_over_time['Rating'].max()])  # Replace with your desired date range\n",
        "\n",
        "fig.show()"
      ],
      "metadata": {
        "id": "HmjhH_V0aXvz"
      },
      "execution_count": null,
      "outputs": []
    },
    {
      "cell_type": "code",
      "source": [],
      "metadata": {
        "id": "f5kOPZtGb2dL"
      },
      "execution_count": null,
      "outputs": []
    },
    {
      "cell_type": "code",
      "source": [
        "# prompt: find the minimum date and the maximum date\n",
        "\n",
        "min_date = df['Date'].min()\n",
        "max_date = df['Date'].max()\n",
        "\n",
        "print(f\"Minimum date: {min_date}\")\n",
        "print(f\"Maximum date: {max_date}\")\n"
      ],
      "metadata": {
        "id": "1Q27Rxs_bzFU"
      },
      "execution_count": null,
      "outputs": []
    },
    {
      "cell_type": "code",
      "source": [
        "# prompt: show the current folder path\n",
        "\n",
        "!pwd\n"
      ],
      "metadata": {
        "id": "GeMT9h9_eiT-"
      },
      "execution_count": null,
      "outputs": []
    },
    {
      "cell_type": "code",
      "source": [
        "# prompt: export df to an excel file\n",
        "\n",
        "df.to_excel('output.xlsx', index=False)\n"
      ],
      "metadata": {
        "id": "YDi5-Ap7akxe"
      },
      "execution_count": null,
      "outputs": []
    },
    {
      "cell_type": "code",
      "source": [
        "# prompt: generate a dataframe showing winning percentage for each player against all other players\n",
        "\n",
        "import pandas as pd\n",
        "# Create a dictionary to store the head-to-head win percentages\n",
        "head_to_head_win_percentages = {}\n",
        "\n",
        "# Iterate over each player\n",
        "for player in distinct_players:\n",
        "  if player:\n",
        "    head_to_head_win_percentages[player] = {}\n",
        "    for opponent in distinct_players:\n",
        "      if opponent:\n",
        "        if player != opponent:\n",
        "          # Initialize win and loss counts\n",
        "          wins = 0\n",
        "          losses = 0\n",
        "          # Iterate through the DataFrame to find matches between the player and opponent\n",
        "          for index, row in df.iterrows():\n",
        "            if (row['team 1 player 1'] == player and row['team 2 player 1'] == opponent) or \\\n",
        "               (row['team 1 player 1'] == player and row['team 2 player 2'] == opponent) or \\\n",
        "               (row['team 1 player 2'] == player and row['team 2 player 1'] == opponent) or \\\n",
        "               (row['team 1 player 2'] == player and row['team 2 player 2'] == opponent) or \\\n",
        "               (row['team 2 player 1'] == player and row['team 1 player 1'] == opponent) or \\\n",
        "               (row['team 2 player 1'] == player and row['team 1 player 2'] == opponent) or \\\n",
        "               (row['team 2 player 2'] == player and row['team 1 player 1'] == opponent) or \\\n",
        "               (row['team 2 player 2'] == player and row['team 1 player 2'] == opponent):\n",
        "              if row['winner #1'] == player or row['winner #2'] == player:\n",
        "                wins += 1\n",
        "              else:\n",
        "                losses += 1\n",
        "          # Calculate the win percentage\n",
        "          if wins + losses > 0:\n",
        "            win_percentage = (wins / (wins + losses)) * 100\n",
        "          else:\n",
        "            win_percentage = 0\n",
        "          # Store the win percentage in the dictionary\n",
        "          head_to_head_win_percentages[player][opponent] = win_percentage\n",
        "        else:\n",
        "          # If player and opponent are the same, set win percentage to 0\n",
        "          head_to_head_win_percentages[player][opponent] = 0\n",
        "\n",
        "# Create a DataFrame from the head-to-head win percentages dictionary\n",
        "df_head_to_head = pd.DataFrame.from_dict(head_to_head_win_percentages)\n",
        "\n",
        "# Print the DataFrame\n",
        "print(df_head_to_head)\n"
      ],
      "metadata": {
        "id": "s_TkLKGH_0z1"
      },
      "execution_count": null,
      "outputs": []
    },
    {
      "cell_type": "code",
      "source": [
        "# prompt: tranpose df_head_to_head\n",
        "# to get winning player on left, losing player on top\n",
        "\n",
        "# Transpose the DataFrame\n",
        "df_head_to_head_transposed = df_head_to_head.transpose()\n",
        "\n",
        "# Print the transposed DataFrame\n",
        "print(df_head_to_head_transposed)\n"
      ],
      "metadata": {
        "id": "1sQ1XkaPAVbd"
      },
      "execution_count": null,
      "outputs": []
    },
    {
      "cell_type": "code",
      "source": [
        "# !pip install glicko2"
      ],
      "metadata": {
        "id": "MFM-0TmscyMW"
      },
      "execution_count": null,
      "outputs": []
    },
    {
      "cell_type": "code",
      "source": [
        "# prompt: instead of an ELO rating use a glicko rating\n",
        "\n",
        "from google.colab import auth\n",
        "import gspread\n",
        "from google.auth import default\n",
        "import pandas as pd\n",
        "import math\n",
        "import matplotlib.pyplot as plt\n",
        "import plotly.express as px\n",
        "from datetime import date\n",
        "# from glicko2 import Rating\n",
        "import glicko2\n",
        "\n",
        "# Initialize Glicko ratings for each player\n",
        "glicko_ratings = {}\n",
        "for player in distinct_players:\n",
        "  if player:\n",
        "    glicko_ratings[player] = glicko2.Rating()  # Starting Glicko rating\n",
        "\n",
        "# Calculate Glicko ratings for each game\n",
        "for index, row in df.iterrows():\n",
        "  team1_player1 = row['team 1 player 1']\n",
        "  team1_player2 = row['team 1 player 2']\n",
        "  team2_player1 = row['team 2 player 1']\n",
        "  team2_player2 = row['team 2 player 2']\n",
        "  winner1 = row['winner #1']\n",
        "  winner2 = row['winner #2']\n",
        "  loser1 = row['loser #1']\n",
        "  loser2 = row['loser #2']\n",
        "\n",
        "  if team1_player1 in glicko_ratings and team1_player2 in glicko_ratings and team2_player1 in glicko_ratings and team2_player2 in glicko_ratings:\n",
        "    # Determine the score for each team based on the winners and losers\n",
        "    if winner1 == team1_player1 or winner1 == team1_player2:\n",
        "      team1_score = 1\n",
        "      team2_score = 0\n",
        "    else:\n",
        "      team1_score = 0\n",
        "      team2_score = 1\n",
        "\n",
        "    # Calculate new Glicko ratings for each player\n",
        "    new_rating_team1_player1, new_rating_team2_player1 = calculate_glicko_rating(glicko_ratings[team1_player1], glicko_ratings[team2_player1], team1_score, team2_score)\n",
        "    new_rating_team1_player2, new_rating_team2_player2 = calculate_glicko_rating(glicko_ratings[team1_player2], glicko_ratings[team2_player2], team1_score, team2_score)\n",
        "\n",
        "    df.loc[index, 'new_rating_team1_player1'] = new_rating_team1_player1.mu\n",
        "    df.loc[index, 'new_rating_team2_player1'] = new_rating_team2_player1.mu\n",
        "    df.loc[index, 'new_rating_team1_player2'] = new_rating_team1_player2.mu\n",
        "    df.loc[index, 'new_rating_team2_player2'] = new_rating_team2_player2.mu\n",
        "\n",
        "    # Update Glicko ratings for each player\n",
        "    glicko_ratings[team1_player1] = new_rating_team1_player1\n",
        "    glicko_ratings[team1_player2] = new_rating_team1_player2\n",
        "    glicko_ratings[team2_player1] = new_rating_team2_player1\n",
        "    glicko_ratings[team2_player2] = new_rating_team2_player2\n",
        "\n",
        "# Create a DataFrame from the Glicko ratings\n",
        "df_glicko_ratings = pd.DataFrame.from_dict({player: rating.mu for player, rating in glicko_ratings.items()}, orient='index', columns=['Glicko Rating'])\n",
        "df_glicko_ratings = df_glicko_ratings.reset_index().rename(columns={'index': 'Player'})\n",
        "\n",
        "# Print the DataFrame with Glicko ratings\n",
        "print(df_glicko_ratings.sort_values(by=['Glicko Rating'], ascending=False))\n",
        "\n",
        "# Function to calculate Glicko ratings\n",
        "def calculate_glicko_rating(rating1, rating2, score1, score2):\n",
        "  \"\"\"\n",
        "  Calculates new Glicko ratings for two players based on the game result.\n",
        "\n",
        "  Args:\n",
        "    rating1: Glicko rating object for player 1.\n",
        "    rating2: Glicko rating object for player 2.\n",
        "    score1: Score for player 1 (1 for win, 0 for loss).\n",
        "    score2: Score for player 2 (1 for win, 0 for loss).\n",
        "\n",
        "  Returns:\n",
        "    tuple: New Glicko rating objects for player 1 and player 2.\n",
        "  \"\"\"\n",
        "  # Create a list of ratings for the players\n",
        "  ratings = [rating1, rating2]\n",
        "  # Create a list of scores\n",
        "  scores = [score1, score2]\n",
        "  # Update the ratings based on the scores\n",
        "  for i in range(2):\n",
        "    opponent_ratings = [ratings[j] for j in range(2) if j != i]\n",
        "    opponent_scores = [scores[j] for j in range(2) if j != i]\n",
        "    ratings[i].update(opponent_ratings, opponent_scores)\n",
        "  # Return the new ratings\n",
        "  return ratings[0], ratings[1]\n"
      ],
      "metadata": {
        "id": "sWbHn1R1cREK"
      },
      "execution_count": null,
      "outputs": []
    }
  ]
}